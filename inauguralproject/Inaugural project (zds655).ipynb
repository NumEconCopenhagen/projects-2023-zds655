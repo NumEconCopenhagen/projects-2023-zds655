{
 "cells": [
  {
   "attachments": {},
   "cell_type": "markdown",
   "metadata": {},
   "source": [
    "# Inaugural project"
   ]
  },
  {
   "cell_type": "code",
   "execution_count": 21,
   "metadata": {},
   "outputs": [
    {
     "name": "stdout",
     "output_type": "stream",
     "text": [
      "The autoreload extension is already loaded. To reload it, use:\n",
      "  %reload_ext autoreload\n"
     ]
    }
   ],
   "source": [
    "%load_ext autoreload \n",
    "%autoreload 2\n",
    "from Inaugural_project import HouseholdSpecializationModelClass"
   ]
  },
  {
   "cell_type": "code",
   "execution_count": 22,
   "metadata": {},
   "outputs": [],
   "source": [
    "import numpy as np\n",
    "from scipy import optimize\n",
    "import pandas as pd \n",
    "import matplotlib.pyplot as plt\n",
    "import ipywidgets as widgets"
   ]
  },
  {
   "attachments": {},
   "cell_type": "markdown",
   "metadata": {},
   "source": [
    "# Question 1"
   ]
  },
  {
   "attachments": {},
   "cell_type": "markdown",
   "metadata": {},
   "source": [
    "To illutrate how the ratio of HF & HM changes when alpha and sigma changes it is neccesary to adapt the \"HouseholdSpecializationModel\" provided in this assignment. This has been done by implementing n \"if/else-argument\" in the code that contians the constrints regarding the homeproduction (H). Please see the Inaugural_project.py file to see these changes where the model is specifyed."
   ]
  },
  {
   "cell_type": "code",
   "execution_count": 36,
   "metadata": {},
   "outputs": [
    {
     "name": "stdout",
     "output_type": "stream",
     "text": [
      "[[0.54545455 0.30769231 0.21428571]\n",
      " [1.         1.         1.        ]\n",
      " [1.83333333 3.25       4.66666667]]\n"
     ]
    }
   ],
   "source": [
    "# In this line of code I fix the model (m) to the class created in the exsample.\n",
    "m = HouseholdSpecializationModelClass()\n",
    "\n",
    "# Here I create two lists that contains the values of the alphas & sigmas\n",
    "value_alphas = [0.25, 0.50, 0.75]\n",
    "value_sigmas = [0.5, 1, 1.5]\n",
    "\n",
    "# Firstly, I create empty lists to store the values of HF & HM\n",
    "list_HF = []\n",
    "list_HM = []\n",
    "\n",
    "# The next few lines of code is a loop that \"loops over\" the posible values of alpha & sigma and solves the model\n",
    "for i in value_alphas:\n",
    "    for j in value_sigmas:\n",
    "        m.par.alpha = i\n",
    "        m.par.sigma = j\n",
    "    \n",
    "        opt = m.solve_discrete()\n",
    "        \n",
    "        # The optimal values of HM and HF will be appened to (before) empty lists\n",
    "        list_HF.append(opt.HF)\n",
    "        list_HM.append(opt.HM)\n",
    "\n",
    "# Using numpy to converte the lists of optimal values into numpy-arrays\n",
    "\n",
    "array_HF = np.array(list_HF)\n",
    "array_HM = np.array(list_HM) \n",
    "\n",
    "# Finding to ratios by dividing the arrays for HF & HM\n",
    "array_HFHM = array_HF/array_HM\n",
    "\n",
    "# Creating a solution-matrix \n",
    "matrix_HFHM = array_HFHM.reshape(len(value_alphas), len(value_sigmas))\n",
    "\n",
    "# printing the result\n",
    "print(matrix_HFHM)"
   ]
  },
  {
   "attachments": {},
   "cell_type": "markdown",
   "metadata": {},
   "source": [
    "NOTE: I have trobule creating a propper table. However, the alpha values should be on the left side (rows) and the sigma values should be illustrated on top of the table (collums).\n",
    "\n",
    "With that in mind, the tables illustrate that when alpha=0.25 the ratio between HF/HM is decreasing as sigma are increasing. When alpha=0.75 the ratio increases as the value of sigma increases as well. The ratio will always be equal to 1 when alpha=0.5 even when the value of sigma changes."
   ]
  },
  {
   "attachments": {},
   "cell_type": "markdown",
   "metadata": {},
   "source": [
    "# Question 2"
   ]
  },
  {
   "attachments": {},
   "cell_type": "markdown",
   "metadata": {},
   "source": [
    "In this question we need to examine what happens to the ratio when the wages of the female member of the houshold changes [0.8, 0.9, 1.0, 1.1, 1.2]. "
   ]
  },
  {
   "cell_type": "code",
   "execution_count": 44,
   "metadata": {},
   "outputs": [
    {
     "data": {
      "text/html": [
       "<div>\n",
       "<style scoped>\n",
       "    .dataframe tbody tr th:only-of-type {\n",
       "        vertical-align: middle;\n",
       "    }\n",
       "\n",
       "    .dataframe tbody tr th {\n",
       "        vertical-align: top;\n",
       "    }\n",
       "\n",
       "    .dataframe thead th {\n",
       "        text-align: right;\n",
       "    }\n",
       "</style>\n",
       "<table border=\"1\" class=\"dataframe\">\n",
       "  <thead>\n",
       "    <tr style=\"text-align: right;\">\n",
       "      <th></th>\n",
       "      <th>w_f</th>\n",
       "      <th>H-ratio</th>\n",
       "      <th>w-ratio</th>\n",
       "    </tr>\n",
       "  </thead>\n",
       "  <tbody>\n",
       "    <tr>\n",
       "      <th>0</th>\n",
       "      <td>0.8</td>\n",
       "      <td>0.2231</td>\n",
       "      <td>-0.2231</td>\n",
       "    </tr>\n",
       "    <tr>\n",
       "      <th>1</th>\n",
       "      <td>0.9</td>\n",
       "      <td>0.0000</td>\n",
       "      <td>-0.1054</td>\n",
       "    </tr>\n",
       "    <tr>\n",
       "      <th>2</th>\n",
       "      <td>1.0</td>\n",
       "      <td>0.0000</td>\n",
       "      <td>0.0000</td>\n",
       "    </tr>\n",
       "    <tr>\n",
       "      <th>3</th>\n",
       "      <td>1.1</td>\n",
       "      <td>-0.1178</td>\n",
       "      <td>0.0953</td>\n",
       "    </tr>\n",
       "    <tr>\n",
       "      <th>4</th>\n",
       "      <td>1.2</td>\n",
       "      <td>-0.2231</td>\n",
       "      <td>0.1823</td>\n",
       "    </tr>\n",
       "  </tbody>\n",
       "</table>\n",
       "</div>"
      ],
      "text/plain": [
       "   w_f  H-ratio  w-ratio\n",
       "0  0.8   0.2231  -0.2231\n",
       "1  0.9   0.0000  -0.1054\n",
       "2  1.0   0.0000   0.0000\n",
       "3  1.1  -0.1178   0.0953\n",
       "4  1.2  -0.2231   0.1823"
      ]
     },
     "execution_count": 44,
     "metadata": {},
     "output_type": "execute_result"
    }
   ],
   "source": [
    "# Setting alpha & sigma such that the male & female are equal in terms of homeprodoction\n",
    "m.par.alpha = 0.5\n",
    "m.par.sigma = 1\n",
    "\n",
    "# creating empty lists - just like in the previuos question - to store the values that contain log of H & w \n",
    "log_ratioH = []\n",
    "log_ratiow = []\n",
    "\n",
    "# looping over the the values of w_F and solves the model \n",
    "for i in m.par.wF_vec:\n",
    "    m.par.wF = i\n",
    "    # solve model discretely\n",
    "    result1 = m.solve_discrete()\n",
    "    \n",
    "    # append the results of the log of the household-ratio to the empty list \n",
    "    log_ratioH.append(np.log(result1.HF/result1.HM))\n",
    "    # append the results of the log of the wages-ratio to the empty list \n",
    "    log_ratiow.append(np.log(i/m.par.wM))\n",
    "\n",
    "# d. construct a dataframe of the results os far\n",
    "df_plot = pd.DataFrame({\"w_f\": m.par.wF_vec, \"H-ratio\": np.round(log_ratioH, 4), \"w-ratio\": np.round(log_ratiow, 4)})\n",
    "df_plot"
   ]
  },
  {
   "attachments": {},
   "cell_type": "markdown",
   "metadata": {},
   "source": [
    "From the table above we see that when when womans wages increases then their householdproduction decreases and the other way arround. One of the interesting things about this result is that when the men and woman are equal in houseproduction (when w_F=0.9) the wage-ratio is negative. Maybe this illustrate the problem of equal-pay between men and woman...?"
   ]
  },
  {
   "attachments": {},
   "cell_type": "markdown",
   "metadata": {},
   "source": [
    "Illustrating the results and interpretation in a plot below. "
   ]
  },
  {
   "cell_type": "code",
   "execution_count": 60,
   "metadata": {},
   "outputs": [
    {
     "data": {
      "text/plain": [
       "Text(0, 0.5, 'log(H_F/H_M)')"
      ]
     },
     "execution_count": 60,
     "metadata": {},
     "output_type": "execute_result"
    },
    {
     "data": {
      "image/png": "[encoded data removed]",
      "text/plain": [
       "<Figure size 432x288 with 1 Axes>"
      ]
     },
     "metadata": {
      "needs_background": "light"
     },
     "output_type": "display_data"
    }
   ],
   "source": [
    "fig = plt.figure()\n",
    "ax = fig.add_subplot(1,1,1)\n",
    "ax.plot(df_plot['w-ratio'],df_plot['H-ratio'], 'bo-')\n",
    "ax.set_title('The Household-ratio as a function of the wages-ratio whit different values of the female wages (discrate)')\n",
    "ax.set_xlabel('log(w_F/w_M)')\n",
    "ax.set_ylabel('log(H_F/H_M)')"
   ]
  },
  {
   "attachments": {},
   "cell_type": "markdown",
   "metadata": {},
   "source": [
    "# Question 3"
   ]
  },
  {
   "attachments": {},
   "cell_type": "markdown",
   "metadata": {},
   "source": [
    "Here we need to do the same like in question 2 but solve the model for contiuous choice instead of discreate."
   ]
  },
  {
   "cell_type": "code",
   "execution_count": 67,
   "metadata": {},
   "outputs": [
    {
     "data": {
      "text/plain": [
       "Text(0, 0.5, 'log(H_F/H_M)')"
      ]
     },
     "execution_count": 67,
     "metadata": {},
     "output_type": "execute_result"
    },
    {
     "data": {
      "image/png": "[encoded data removed]",
      "text/plain": [
       "<Figure size 432x288 with 1 Axes>"
      ]
     },
     "metadata": {
      "needs_background": "light"
     },
     "output_type": "display_data"
    }
   ],
   "source": [
    "# instead of creating empty lists and filling them with the results one can take a different approach\n",
    "# we can call \"solve\" directly from the class and putting in the argument \"discrete=False\" to solve the model for continuous\n",
    "m.solve_wF_vec(discrete=False)\n",
    "\n",
    "# We can also caluculate the ratios of wages and household production by using \n",
    "conlog_Hratio = np.log(m.sol.HF_vec/m.sol.HM_vec)\n",
    "conlog_wratio = np.log(m.par.wF_vec/m.par.wM)\n",
    "\n",
    "# create plot\n",
    "fig = plt.figure()\n",
    "ax = fig.add_subplot(1,1,1)\n",
    "ax.plot(conlog_wratio, conlog_Hratio, 'bo-')\n",
    "ax.set_title('The Household-ratio as a function of the wages-ratio whit different values of the female wages (continuous)')\n",
    "ax.set_xlabel('log(w_F/w_M)')\n",
    "ax.set_ylabel('log(H_F/H_M)')"
   ]
  },
  {
   "cell_type": "code",
   "execution_count": 68,
   "metadata": {},
   "outputs": [
    {
     "data": {
      "text/html": [
       "<div>\n",
       "<style scoped>\n",
       "    .dataframe tbody tr th:only-of-type {\n",
       "        vertical-align: middle;\n",
       "    }\n",
       "\n",
       "    .dataframe tbody tr th {\n",
       "        vertical-align: top;\n",
       "    }\n",
       "\n",
       "    .dataframe thead th {\n",
       "        text-align: right;\n",
       "    }\n",
       "</style>\n",
       "<table border=\"1\" class=\"dataframe\">\n",
       "  <thead>\n",
       "    <tr style=\"text-align: right;\">\n",
       "      <th></th>\n",
       "      <th>w_f</th>\n",
       "      <th>H-ratio</th>\n",
       "      <th>w-ratio</th>\n",
       "    </tr>\n",
       "  </thead>\n",
       "  <tbody>\n",
       "    <tr>\n",
       "      <th>0</th>\n",
       "      <td>0.8</td>\n",
       "      <td>0.2231</td>\n",
       "      <td>-0.2231</td>\n",
       "    </tr>\n",
       "    <tr>\n",
       "      <th>1</th>\n",
       "      <td>0.9</td>\n",
       "      <td>0.1054</td>\n",
       "      <td>-0.1054</td>\n",
       "    </tr>\n",
       "    <tr>\n",
       "      <th>2</th>\n",
       "      <td>1.0</td>\n",
       "      <td>0.0000</td>\n",
       "      <td>0.0000</td>\n",
       "    </tr>\n",
       "    <tr>\n",
       "      <th>3</th>\n",
       "      <td>1.1</td>\n",
       "      <td>-0.0953</td>\n",
       "      <td>0.0953</td>\n",
       "    </tr>\n",
       "    <tr>\n",
       "      <th>4</th>\n",
       "      <td>1.2</td>\n",
       "      <td>-0.1823</td>\n",
       "      <td>0.1823</td>\n",
       "    </tr>\n",
       "  </tbody>\n",
       "</table>\n",
       "</div>"
      ],
      "text/plain": [
       "   w_f  H-ratio  w-ratio\n",
       "0  0.8   0.2231  -0.2231\n",
       "1  0.9   0.1054  -0.1054\n",
       "2  1.0   0.0000   0.0000\n",
       "3  1.1  -0.0953   0.0953\n",
       "4  1.2  -0.1823   0.1823"
      ]
     },
     "execution_count": 68,
     "metadata": {},
     "output_type": "execute_result"
    }
   ],
   "source": [
    "df_plot = pd.DataFrame({\"w_f\": m.par.wF_vec, \"H-ratio\": np.round(conlog_Hratio, 4), \"w-ratio\": np.round(conlog_wratio, 4)})\n",
    "df_plot"
   ]
  },
  {
   "attachments": {},
   "cell_type": "markdown",
   "metadata": {},
   "source": [
    "When solving the model for contiuous choice the results came out much more smooth which is illustrated in the graph above. The equal pay-gab between men and woman like I mentond ealier is gone."
   ]
  }
 ],
 "metadata": {
  "kernelspec": {
   "display_name": "Python 3",
   "language": "python",
   "name": "python3"
  },
  "language_info": {
   "codemirror_mode": {
    "name": "ipython",
    "version": 3
   },
   "file_extension": ".py",
   "mimetype": "text/x-python",
   "name": "python",
   "nbconvert_exporter": "python",
   "pygments_lexer": "ipython3",
   "version": "3.9.7"
  },
  "orig_nbformat": 4,
  "vscode": {
   "interpreter": {
    "hash": "d082443479dcf0bb109497657c949fcf3a4bd1d96297faded59d95be7509270b"
   }
  }
 },
 "nbformat": 4,
 "nbformat_minor": 2
}
